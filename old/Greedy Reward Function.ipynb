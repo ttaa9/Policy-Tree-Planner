{
 "cells": [
  {
   "cell_type": "code",
   "execution_count": 2,
   "metadata": {
    "collapsed": false
   },
   "outputs": [],
   "source": [
    "import numpy as np, numpy.random as npr, random as r\n",
    "import tensorflow as tf  \n",
    "from NavTask import NavigationTask\n",
    "import tensorflow.contrib.rnn as rnn"
   ]
  },
  {
   "cell_type": "code",
   "execution_count": 39,
   "metadata": {
    "collapsed": false
   },
   "outputs": [],
   "source": [
    "#Getting data from the env \n",
    "data = NavigationTask.generateRandomRewardTrajectories(20000,10,verbose=False)"
   ]
  },
  {
   "cell_type": "code",
   "execution_count": 40,
   "metadata": {
    "collapsed": true
   },
   "outputs": [],
   "source": [
    "def layer(x, size, name, initializer=None, bias_init=0):\n",
    "    w = tf.get_variable(name + \"/w\", [x.get_shape()[1], size], initializer=initializer)\n",
    "    b = tf.get_variable(name + \"/b\", [size], initializer=tf.constant_initializer(bias_init))\n",
    "    return tf.nn.relu(tf.matmul(x, w) + b)\n",
    "\n",
    "def linear(x, size, name, initializer=None, bias_init=0):\n",
    "    w = tf.get_variable(name + \"/w\", [x.get_shape()[1], size], initializer=initializer)\n",
    "    b = tf.get_variable(name + \"/b\", [size], initializer=tf.constant_initializer(bias_init))\n",
    "    return tf.matmul(x, w) + b\n",
    "\n",
    "def normalized_columns_initializer(std=1.0):\n",
    "    def _initializer(shape, dtype=None, partition_info=None):\n",
    "        out = np.random.randn(*shape).astype(np.float32)\n",
    "        out *= std / np.sqrt(np.square(out).sum(axis=0, keepdims=True))\n",
    "        return tf.constant(out)\n",
    "    return _initializer\n"
   ]
  },
  {
   "cell_type": "code",
   "execution_count": 45,
   "metadata": {
    "collapsed": true
   },
   "outputs": [],
   "source": [
    "#State ---> Reward \n",
    "class GreedyRewardFunction(object):\n",
    "    \n",
    "    def __init__(self, obs_space, h_size=256):\n",
    "        \n",
    "        # Input: [Batch observations_space]\n",
    "        self.input = tf.placeholder(tf.float32, [None] + list(obs_space))\n",
    "        \n",
    "        hidden1 = layer(self.input, h_size, \"hidden1\",  normalized_columns_initializer(1.0))\n",
    "        hidden2 = layer(hidden1, h_size, \"hidden2\",  normalized_columns_initializer(1.0))\n",
    "        self.output = linear(hidden2, 1, \"linear\", normalized_columns_initializer(1.0))\n",
    "        # output: [Batch reward[1]]\n",
    "        \n",
    "        self.targetRewards = tf.placeholder(tf.float32, [None])\n",
    "        \n",
    "        self.loss = tf.reduce_mean(tf.square(self.output - self.targetRewards))\n",
    "        self.optimizer = tf.train.AdamOptimizer(learning_rate=0.001).minimize(self.loss)\n",
    "        \n",
    "    def train(self, obs, rewards):\n",
    "        sess = tf.get_default_session()\n",
    "        batch_feed = {self.input: obs, self.targetRewards: rewards}\n",
    "        return sess.run([self.loss, self.optimizer], feed_dict=batch_feed)\n",
    "        \n",
    "    def inference(self, obs):\n",
    "        sess = tf.get_default_session()\n",
    "        batch_feed = {self.input: [obs]}\n",
    "        return sess.run([self.output], feed_dict=batch_feed)\n",
    "        "
   ]
  },
  {
   "cell_type": "code",
   "execution_count": 46,
   "metadata": {
    "collapsed": false
   },
   "outputs": [],
   "source": [
    "def main():\n",
    "    # hyper parameters\n",
    "    env = NavigationTask()\n",
    "    input_size = np.shape(env.getStateRep())\n",
    "    hparams = {\n",
    "            'input_size': input_size,\n",
    "    }\n",
    "\n",
    "    # environment params\n",
    "    eparams = {\n",
    "            'num_batches': 1,\n",
    "            'ep_per_batch': 1\n",
    "    }\n",
    "\n",
    "\n",
    "    with tf.Graph().as_default(), tf.Session() as sess:\n",
    "\n",
    "        v = GreedyRewardFunction(hparams['input_size'])\n",
    "\n",
    "        sess.run(tf.initialize_all_variables())\n",
    "        \n",
    "        for batch in range(0, eparams['num_batches']):\n",
    "            #print('=====\\nBATCH {}\\n===='.format(batch))\n",
    "            dataset = data[batch]\n",
    "            for i in range(0, eparams['ep_per_batch']):\n",
    "                obs, rewards = dataset\n",
    "                v.train(obs, rewards)\n",
    "#             print(\"loss\",pi.trai(n_step(obs, acts, rews))\n",
    "            #print(\"loss\", v.train(obs, rewards))\n",
    "        print(\"Goal state\", v.inference([14,14,0,1,0,0,14,14]))\n",
    "        #print(policyRollout(pi, hparams))"
   ]
  },
  {
   "cell_type": "code",
   "execution_count": 47,
   "metadata": {
    "collapsed": false
   },
   "outputs": [
    {
     "name": "stdout",
     "output_type": "stream",
     "text": [
      "[array([  6.,   1.,   0.,   0.,   1.,   0.,  14.,  14.]), array([  6.,   1.,   0.,   1.,   0.,   0.,  14.,  14.]), array([  6.,   1.,   0.,   0.,   0.,   1.,  14.,  14.]), array([  6.,   1.,   1.,   0.,   0.,   0.,  14.,  14.]), array([  6.,   4.,   1.,   0.,   0.,   0.,  14.,  14.]), array([  6.,   9.,   1.,   0.,   0.,   0.,  14.,  14.]), array([  6.,  12.,   1.,   0.,   0.,   0.,  14.,  14.]), array([  6.,  12.,   1.,   0.,   0.,   0.,  14.,  14.])]\n"
     ]
    }
   ],
   "source": [
    "obs, rewards = data[0]\n",
    "print(obs)"
   ]
  },
  {
   "cell_type": "code",
   "execution_count": 48,
   "metadata": {
    "collapsed": false
   },
   "outputs": [
    {
     "name": "stdout",
     "output_type": "stream",
     "text": [
      "WARNING:tensorflow:From C:\\Users\\adity\\Anaconda3\\lib\\site-packages\\tensorflow\\python\\util\\tf_should_use.py:170: initialize_all_variables (from tensorflow.python.ops.variables) is deprecated and will be removed after 2017-03-02.\n",
      "Instructions for updating:\n",
      "Use `tf.global_variables_initializer` instead.\n",
      "Goal state [array([[ 5.51589012]], dtype=float32)]\n"
     ]
    }
   ],
   "source": [
    "main()"
   ]
  },
  {
   "cell_type": "code",
   "execution_count": null,
   "metadata": {
    "collapsed": true
   },
   "outputs": [],
   "source": []
  },
  {
   "cell_type": "code",
   "execution_count": null,
   "metadata": {
    "collapsed": true
   },
   "outputs": [],
   "source": []
  }
 ],
 "metadata": {
  "kernelspec": {
   "display_name": "Python 3",
   "language": "python",
   "name": "python3"
  },
  "language_info": {
   "codemirror_mode": {
    "name": "ipython",
    "version": 3
   },
   "file_extension": ".py",
   "mimetype": "text/x-python",
   "name": "python",
   "nbconvert_exporter": "python",
   "pygments_lexer": "ipython3",
   "version": "3.6.0"
  }
 },
 "nbformat": 4,
 "nbformat_minor": 2
}
