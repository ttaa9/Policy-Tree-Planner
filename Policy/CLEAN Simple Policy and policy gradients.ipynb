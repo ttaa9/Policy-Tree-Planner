{
 "cells": [
  {
   "cell_type": "code",
   "execution_count": 1,
   "metadata": {
    "collapsed": true
   },
   "outputs": [],
   "source": [
    "import numpy as np, numpy.random as npr, random as r\n",
    "import tensorflow as tf  \n",
    "from NavTask import NavigationTask\n",
    "import tensorflow.contrib.rnn as rnn\n",
    "import tensorflow.contrib.slim as slim"
   ]
  },
  {
   "cell_type": "code",
   "execution_count": 2,
   "metadata": {
    "collapsed": false
   },
   "outputs": [],
   "source": [
    "def categorical_sample(logits, d):\n",
    "    value = tf.squeeze(tf.multinomial(logits - tf.reduce_max(logits, [1], keep_dims=True), 1), [1])\n",
    "    return tf.one_hot(value, d)\n",
    "\n",
    "# compute discounted future rewards\n",
    "def discountedReward(reward, discount_factor = 0.1):\n",
    "    N = len(reward)\n",
    "    discounted_rewards = np.zeros(N)\n",
    "    r =0\n",
    "    for t in reversed(range(5)):\n",
    "        # future discounted reward from now on\n",
    "        r = reward[t] + discount_factor * r\n",
    "        discounted_rewards[t] = r\n",
    "    return discounted_rewards\n",
    "\n",
    "class SimplePolicy(object):\n",
    "    \n",
    "    def __init__(self,obs_space,act_space, h_size=100):\n",
    "       \n",
    "        print(\"Observation Space: \" , obs_space)\n",
    "        print(\"Action Space: \", act_space)\n",
    "        \n",
    "        # Input space: [Episode_length, observations], output:[Episode_Length,action_space]\n",
    "        self.input = tf.placeholder(tf.float32, [None] + list(obs_space))\n",
    "        hidden = slim.fully_connected(self.input,h_size,biases_initializer=None,activation_fn=tf.nn.relu)\n",
    "        self.output = slim.fully_connected(hidden,act_space,activation_fn=tf.nn.softmax,biases_initializer=None)\n",
    "        self.log_prob = log_prob = tf.log(self.output)\n",
    "        \n",
    "        # sample: [Episode_length, action_space]\n",
    "        self.sample = categorical_sample(self.output, act_space)[0, :]\n",
    "        \n",
    "        self.targetAction = tf.placeholder(tf.float32, [None, act_space], name=\"action\")\n",
    "        self.reward = tf.placeholder(tf.float32, [None], name=\"reward\")\n",
    "        self.cumaltiveReward = tf.reduce_sum(self.reward)\n",
    "        \n",
    "        self.entropy =  tf.reduce_mean(tf.reduce_sum(self.output  * log_prob, 1))\n",
    "        self.crossEntropy = tf.reduce_sum(log_prob * self.targetAction, 1)\n",
    "        self.loss = -tf.reduce_mean(self.crossEntropy * self.cumaltiveReward) + 0.1*self.entropy\n",
    "        self._train = tf.train.AdamOptimizer(0.006).minimize(self.loss)\n",
    "        \n",
    "\n",
    "        \n",
    "    def act_inference(self, ob):\n",
    "        sess = tf.get_default_session()\n",
    "        return sess.run([self.output, self.sample], {self.input: [ob]})\n",
    "\n",
    "    def train_step(self, obs, acts, reward):\n",
    "        sess = tf.get_default_session()\n",
    "        batch_feed = { self.input: obs, self.targetAction: acts, self.reward: reward}\n",
    "        return sess.run([self._train, self.loss, self.cumaltiveReward, self.output,self.targetAction ], feed_dict=batch_feed)\n"
   ]
  },
  {
   "cell_type": "code",
   "execution_count": 8,
   "metadata": {
    "collapsed": false
   },
   "outputs": [],
   "source": [
    "def policyRollout(agent, hparams):\n",
    "    \n",
    "    #\"Runs one episode\"\n",
    "    episode_length = hparams['epiode_length']\n",
    "    env_size = hparams['env_size']\n",
    "    env = NavigationTask(env_size,env_size)\n",
    "    obs, acts, rews = [], [], []\n",
    "    \n",
    "    for i in range(0, episode_length): \n",
    "        \n",
    "        state = env.getStateRep(False)\n",
    "        obs.append(state)\n",
    "        actionProb, sampleAction  = agent.act_inference(state)\n",
    "      \n",
    "        action = actionProb.argmax()\n",
    "        sampleActionIndex = sampleAction.argmax()\n",
    "        \n",
    "        env.performAction(action)\n",
    "        newState  = env.getStateRep()\n",
    "        reward = env.getReward() \n",
    "    \n",
    "        #acts.append(sampleAction)\n",
    "        values = [action]\n",
    "        acts.append(np.squeeze(np.eye( hparams['num_actions'])[values]))\n",
    "        rews.append(reward)\n",
    "    #rews = discountedReward(rews)\n",
    "    return obs, acts, rews"
   ]
  },
  {
   "cell_type": "code",
   "execution_count": 11,
   "metadata": {
    "collapsed": true
   },
   "outputs": [],
   "source": [
    "def main():\n",
    "    # hyper parameters\n",
    "    env = NavigationTask()\n",
    "    input_size = np.shape(env.getStateRep(False))\n",
    "    hparams = {\n",
    "            'input_size': input_size,\n",
    "            'num_actions': 10,\n",
    "            'learning_rate': 0.1,\n",
    "            'epiode_length': 6,\n",
    "            'env_size': 7\n",
    "    }\n",
    "\n",
    "    # environment params\n",
    "    eparams = {\n",
    "            'num_batches': 10,\n",
    "            'ep_per_batch': 1000\n",
    "    }\n",
    "\n",
    "    with tf.Graph().as_default(), tf.Session() as sess:\n",
    "\n",
    "        pi = SimplePolicy(hparams['input_size'], hparams['num_actions'])\n",
    "\n",
    "        sess.run(tf.initialize_all_variables())\n",
    "        \n",
    "        for batch in range(0, eparams['num_batches']):\n",
    "            print('=====\\nBATCH {}\\n===='.format(batch))\n",
    "            num = 0\n",
    "            for i in range(0, eparams['ep_per_batch']):\n",
    "                obs, acts, rews = policyRollout(pi, hparams)\n",
    "                num += 1 if 1 in rews else 0\n",
    "                pi.train_step(obs, acts, rews)\n",
    "            print(\"number of times reward\", num)\n",
    "            obs, acts, rews = policyRollout(pi, hparams)\n",
    "#             print(\"loss\",pi.train_step(obs, acts, rews))\n",
    "            print(\"Observation\", obs)\n",
    "            print(\"acts\", [np.argmax(a) for a in acts])\n",
    "            print(\"rews\", rews)\n",
    "        print(policyRollout(pi, hparams))"
   ]
  },
  {
   "cell_type": "code",
   "execution_count": null,
   "metadata": {
    "collapsed": false
   },
   "outputs": [
    {
     "name": "stdout",
     "output_type": "stream",
     "text": [
      "Observation Space:  (8,)\n",
      "Action Space:  10\n",
      "WARNING:tensorflow:From C:\\Users\\adity\\Anaconda3\\lib\\site-packages\\tensorflow\\python\\util\\tf_should_use.py:170: initialize_all_variables (from tensorflow.python.ops.variables) is deprecated and will be removed after 2017-03-02.\n",
      "Instructions for updating:\n",
      "Use `tf.global_variables_initializer` instead.\n",
      "=====\n",
      "BATCH 0\n",
      "====\n",
      "number of times reward 2\n",
      "Observation [array([ 0.,  0.,  1.,  0.,  0.,  0.,  6.,  6.]), array([ 0.,  0.,  0.,  1.,  0.,  0.,  6.,  6.]), array([ 0.,  0.,  0.,  0.,  0.,  1.,  6.,  6.]), array([ 0.,  0.,  0.,  1.,  0.,  0.,  6.,  6.]), array([ 0.,  0.,  0.,  0.,  0.,  1.,  6.,  6.]), array([ 0.,  0.,  0.,  1.,  0.,  0.,  6.,  6.])]\n",
      "acts [2, 4, 2, 4, 2, 4]\n",
      "rews [0, 0, 0, 0, 0, 0]\n",
      "=====\n",
      "BATCH 1\n",
      "====\n",
      "number of times reward 0\n",
      "Observation [array([ 0.,  0.,  1.,  0.,  0.,  0.,  6.,  6.]), array([ 0.,  0.,  1.,  0.,  0.,  0.,  6.,  6.]), array([ 0.,  0.,  1.,  0.,  0.,  0.,  6.,  6.]), array([ 0.,  0.,  1.,  0.,  0.,  0.,  6.,  6.]), array([ 0.,  0.,  1.,  0.,  0.,  0.,  6.,  6.]), array([ 0.,  0.,  1.,  0.,  0.,  0.,  6.,  6.])]\n",
      "acts [0, 0, 0, 0, 0, 0]\n",
      "rews [0, 0, 0, 0, 0, 0]\n",
      "=====\n",
      "BATCH 2\n",
      "====\n",
      "number of times reward 902\n",
      "Observation [array([ 0.,  0.,  1.,  0.,  0.,  0.,  6.,  6.]), array([ 0.,  4.,  1.,  0.,  0.,  0.,  6.,  6.]), array([ 0.,  6.,  1.,  0.,  0.,  0.,  6.,  6.]), array([ 0.,  6.,  0.,  1.,  0.,  0.,  6.,  6.]), array([ 4.,  6.,  0.,  1.,  0.,  0.,  6.,  6.]), array([ 6.,  6.,  0.,  1.,  0.,  0.,  6.,  6.])]\n",
      "acts [8, 8, 2, 8, 8, 8]\n",
      "rews [0, 0, 0, 0, 1, 1]\n",
      "=====\n",
      "BATCH 3\n",
      "====\n",
      "number of times reward 1000\n",
      "Observation [array([ 0.,  0.,  1.,  0.,  0.,  0.,  6.,  6.]), array([ 0.,  4.,  1.,  0.,  0.,  0.,  6.,  6.]), array([ 0.,  6.,  1.,  0.,  0.,  0.,  6.,  6.]), array([ 0.,  6.,  0.,  1.,  0.,  0.,  6.,  6.]), array([ 4.,  6.,  0.,  1.,  0.,  0.,  6.,  6.]), array([ 6.,  6.,  0.,  1.,  0.,  0.,  6.,  6.])]\n",
      "acts [8, 8, 2, 8, 8, 8]\n",
      "rews [0, 0, 0, 0, 1, 1]\n",
      "=====\n",
      "BATCH 4\n",
      "====\n",
      "number of times reward 1000\n",
      "Observation [array([ 0.,  0.,  1.,  0.,  0.,  0.,  6.,  6.]), array([ 0.,  4.,  1.,  0.,  0.,  0.,  6.,  6.]), array([ 0.,  6.,  1.,  0.,  0.,  0.,  6.,  6.]), array([ 0.,  6.,  0.,  1.,  0.,  0.,  6.,  6.]), array([ 4.,  6.,  0.,  1.,  0.,  0.,  6.,  6.]), array([ 6.,  6.,  0.,  1.,  0.,  0.,  6.,  6.])]\n",
      "acts [8, 8, 2, 8, 8, 8]\n",
      "rews [0, 0, 0, 0, 1, 1]\n",
      "=====\n",
      "BATCH 5\n",
      "====\n",
      "number of times reward 1000\n",
      "Observation [array([ 0.,  0.,  1.,  0.,  0.,  0.,  6.,  6.]), array([ 0.,  4.,  1.,  0.,  0.,  0.,  6.,  6.]), array([ 0.,  6.,  1.,  0.,  0.,  0.,  6.,  6.]), array([ 0.,  6.,  0.,  1.,  0.,  0.,  6.,  6.]), array([ 4.,  6.,  0.,  1.,  0.,  0.,  6.,  6.]), array([ 6.,  6.,  0.,  1.,  0.,  0.,  6.,  6.])]\n",
      "acts [8, 8, 2, 8, 8, 8]\n",
      "rews [0, 0, 0, 0, 1, 1]\n",
      "=====\n",
      "BATCH 6\n",
      "====\n",
      "number of times reward 1000\n",
      "Observation [array([ 0.,  0.,  1.,  0.,  0.,  0.,  6.,  6.]), array([ 0.,  4.,  1.,  0.,  0.,  0.,  6.,  6.]), array([ 0.,  6.,  1.,  0.,  0.,  0.,  6.,  6.]), array([ 0.,  6.,  0.,  1.,  0.,  0.,  6.,  6.]), array([ 4.,  6.,  0.,  1.,  0.,  0.,  6.,  6.]), array([ 6.,  6.,  0.,  1.,  0.,  0.,  6.,  6.])]\n",
      "acts [8, 8, 2, 8, 8, 8]\n",
      "rews [0, 0, 0, 0, 1, 1]\n",
      "=====\n",
      "BATCH 7\n",
      "====\n",
      "number of times reward 1000\n",
      "Observation [array([ 0.,  0.,  1.,  0.,  0.,  0.,  6.,  6.]), array([ 0.,  4.,  1.,  0.,  0.,  0.,  6.,  6.]), array([ 0.,  6.,  1.,  0.,  0.,  0.,  6.,  6.]), array([ 0.,  6.,  0.,  1.,  0.,  0.,  6.,  6.]), array([ 4.,  6.,  0.,  1.,  0.,  0.,  6.,  6.]), array([ 6.,  6.,  0.,  1.,  0.,  0.,  6.,  6.])]\n",
      "acts [8, 8, 2, 8, 8, 8]\n",
      "rews [0, 0, 0, 0, 1, 1]\n",
      "=====\n",
      "BATCH 8\n",
      "====\n"
     ]
    }
   ],
   "source": [
    "\n",
    "\n",
    "main()"
   ]
  },
  {
   "cell_type": "code",
   "execution_count": null,
   "metadata": {
    "collapsed": true
   },
   "outputs": [],
   "source": []
  },
  {
   "cell_type": "code",
   "execution_count": null,
   "metadata": {
    "collapsed": true
   },
   "outputs": [],
   "source": []
  },
  {
   "cell_type": "code",
   "execution_count": null,
   "metadata": {
    "collapsed": true
   },
   "outputs": [],
   "source": []
  }
 ],
 "metadata": {
  "kernelspec": {
   "display_name": "Python 3",
   "language": "python",
   "name": "python3"
  },
  "language_info": {
   "codemirror_mode": {
    "name": "ipython",
    "version": 3
   },
   "file_extension": ".py",
   "mimetype": "text/x-python",
   "name": "python",
   "nbconvert_exporter": "python",
   "pygments_lexer": "ipython3",
   "version": "3.6.0"
  }
 },
 "nbformat": 4,
 "nbformat_minor": 2
}
