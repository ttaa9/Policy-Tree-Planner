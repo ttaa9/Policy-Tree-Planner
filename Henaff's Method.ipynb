{
 "cells": [
  {
   "cell_type": "code",
   "execution_count": 5,
   "metadata": {
    "collapsed": false
   },
   "outputs": [],
   "source": [
    "from forwardModel2 import *\n",
    "from SimpleTask import SimpleGridTask\n",
    "import numpy as np, numpy.random as npr, random as r, SimpleTask\n",
    "from TransportTask import TransportTask\n",
    "from NavTask import NavigationTask\n",
    "import tensorflow as tf\n",
    "import os\n",
    "import time\n"
   ]
  },
  {
   "cell_type": "code",
   "execution_count": 30,
   "metadata": {
    "collapsed": false
   },
   "outputs": [],
   "source": [
    "class Henaff_Planning():\n",
    "    def __init__(self,num_actions,len_action, len_state, iterations, gamma):\n",
    "        self.x= tf.Variable(tf.random_normal([num_actions,len_action]))\n",
    "        self.s_0= tf.placeholder(tf.int32, [len_state])\n",
    "        self.s_f= tf.placeholder(tf.int32, [len_state])\n",
    "        self.iterations=iterations\n",
    "        self.num_actions = num_actions\n",
    "        self.len_action = len_action\n",
    "        self.len_state = len_state\n",
    "        \n",
    "\n",
    "    def optimize(init_state,final_state):\n",
    "        sess = tf.get_default_session()\n",
    "        \n",
    "        #TODO: Need to freeze graph -- https://blog.metaflow.fr/tensorflow-how-to-freeze-a-model-and-serve-it-with-a-python-api-d4f3596b3adc ????\n",
    "        self.fm=ForwardModel(self.len_state,self.len_state+self.len_action, self.num_actions)\n",
    "        self.fm.load_model('abcd.ckpt')\n",
    "        #fm = tf.stop_gradient(fm) not sure how to use stop gradients here \n",
    "        \n",
    "        for i in range(0,self.iterations):\n",
    "            epsilon=tf.random_normal([self.num_actions,self.len_action])*gamma\n",
    "            self.x=self.x+epsilon\n",
    "            self.a=tf.nn.softmax(self.x)\n",
    "    \n",
    "            current_state=self.s_0\n",
    "            c,h = self.fm.getInitialFeatures(1)\n",
    "            for t in range(0,self.num_actions):\n",
    "                concat_vec = tf.concat([current_state,self.a[t]])\n",
    "                current_state,state_out = fm.predict(current_state,c,h)\n",
    "                c,h = state_out\n",
    "            \n",
    "            #TODO: is loss distance loss?? I am doing l2 loss\n",
    "            loss = tf.reduce_mean(tf.square(current_state - s_f))\n",
    "            optimize = tf.train.AdamOptimizer(learning_rate=0.01).minimize(loss)\n",
    "            _, loss, _ = sess.run([optimize, loss, self.x],{s0:init_state,sf:final_state})\n",
    "            print(\"Loss for iteration:\" + i,loss)\n",
    "        #TODO: to convert this into quantized action versions and then return \n",
    "        #actions = tf.nn.softmax(self.x)\n",
    "        \n",
    "            "
   ]
  },
  {
   "cell_type": "code",
   "execution_count": 31,
   "metadata": {
    "collapsed": false
   },
   "outputs": [],
   "source": [
    "with tf.Graph().as_default(), tf.Session() as sess:\n",
    "    hp = Henaff_Planning(10,10,64,30,0.1)\n",
    "    #hp.optimize()\n",
    "    "
   ]
  },
  {
   "cell_type": "code",
   "execution_count": 13,
   "metadata": {
    "collapsed": false
   },
   "outputs": [
    {
     "name": "stdout",
     "output_type": "stream",
     "text": [
      "INFO:tensorflow:Restoring parameters from abcd.ckpt\n"
     ]
    }
   ],
   "source": [
    "with tf.Graph().as_default(), tf.Session() as sess:\n",
    "    fm=ForwardModel(64,64+10, 10, 100)\n",
    "    fm.load_model('abcd.ckpt')\n",
    "    #fm = tf.stop_gradient(fm)"
   ]
  },
  {
   "cell_type": "code",
   "execution_count": null,
   "metadata": {
    "collapsed": true
   },
   "outputs": [],
   "source": []
  }
 ],
 "metadata": {
  "kernelspec": {
   "display_name": "Python 3",
   "language": "python",
   "name": "python3"
  },
  "language_info": {
   "codemirror_mode": {
    "name": "ipython",
    "version": 3
   },
   "file_extension": ".py",
   "mimetype": "text/x-python",
   "name": "python",
   "nbconvert_exporter": "python",
   "pygments_lexer": "ipython3",
   "version": "3.6.0"
  }
 },
 "nbformat": 4,
 "nbformat_minor": 2
}
