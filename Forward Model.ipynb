{
 "cells": [
  {
   "cell_type": "code",
   "execution_count": 2,
   "metadata": {
    "collapsed": false
   },
   "outputs": [],
   "source": [
    "from SimpleTask import SimpleGridTask\n",
    "import numpy as np, numpy.random as npr, random as r, SimpleTask\n",
    "from TransportTask import TransportTask\n",
    "from NavTask import NavigationTask\n",
    "import tensorflow as tf\n",
    "import os\n",
    "import time\n"
   ]
  },
  {
   "cell_type": "code",
   "execution_count": 3,
   "metadata": {
    "collapsed": true
   },
   "outputs": [],
   "source": [
    "class SeqData():\n",
    "    def __init__(self,dataFile):\n",
    "        import pickle\n",
    "        with open(dataFile,'rb') as inFile:\n",
    "            print('Reading',dataFile)\n",
    "            env,data = pickle.load(inFile)\n",
    "        inputs,labels,lengths = SimpleGridTask.convertDataSetIntoSeqToLabelSet(data, maxSeqLen=10)\n",
    "        self.lenOfAction = env.numActions\n",
    "        self.lenOfInput = len(inputs[0][0]) # len of state-action concatenation\n",
    "        self.lenOfState = self.lenOfInput - self.lenOfAction\n",
    "        self.data,self.labels,self.seqlen = inputs,labels,lengths\n",
    "        self.batch_id = 0\n",
    "        self.env = env\n",
    "        self.datalen = len(self.data)\n",
    "        print('\\tBuilt')\n",
    "\n",
    "    def next(self, batch_size, random=True):\n",
    "        if random:\n",
    "            rints = r.sample( range(0,self.datalen), batch_size )\n",
    "            batch_data = [ self.data[ri] for ri in rints ]\n",
    "            batch_labels = [ self.labels[ri] for ri in rints ]\n",
    "            batch_seqlen = [ self.seqlen[ri] for ri in rints ]\n",
    "        else:\n",
    "            \"\"\" Return a batch of data. When dataset end is reached, start over.\"\"\"\n",
    "            if self.batch_id == len(self.data):\n",
    "                self.batch_id = 0\n",
    "            endind = min(self.batch_id + batch_size, len(self.data))\n",
    "            batch_data = (self.data[self.batch_id:endind])\n",
    "            batch_labels = (self.labels[self.batch_id:endind])\n",
    "            batch_seqlen = (self.seqlen[self.batch_id:endind])\n",
    "            self.batch_id = min(self.batch_id + batch_size, len(self.data))\n",
    "        return batch_data, batch_labels, batch_seqlen"
   ]
  },
  {
   "cell_type": "code",
   "execution_count": 85,
   "metadata": {
    "collapsed": true
   },
   "outputs": [],
   "source": [
    "class ForwardModel():\n",
    "    def __init__(self, \n",
    "                obs_space, \n",
    "                input_space, \n",
    "                max_seq_len,\n",
    "                n_hidden=100\n",
    "                ):\n",
    "        \n",
    "        self.n_hidden=n_hidden\n",
    "        \n",
    "        #Placeholders \n",
    "        self.input = tf.placeholder(\"float\", [None, max_seq_len, input_space])\n",
    "        self.truevalue = tf.placeholder(\"float\", [None, obs_space])\n",
    "        self.seqlen = tf.placeholder(tf.int32, [None])\n",
    "\n",
    "        self.max_seq_len= max_seq_len\n",
    "        \n",
    "        # Define weights\n",
    "        self.weights = { 'out': tf.Variable(tf.random_normal([n_hidden, obs_space])) }\n",
    "        self.biases = { 'out': tf.Variable(tf.random_normal([obs_space])) }\n",
    "\n",
    "        x = self.input \n",
    "        \n",
    "        # Define a lstm cell with tensorflow\n",
    "        self.lstm_cell = tf.contrib.rnn.BasicLSTMCell(n_hidden, state_is_tuple=True)\n",
    "        \n",
    "        self.state_size_c = self.lstm_cell.state_size.c\n",
    "        self.state_size_h = self.lstm_cell.state_size.h\n",
    "        \n",
    "        self.c_in = tf.placeholder(tf.float32, [None,self.lstm_cell.state_size.c], name = 'c_in')\n",
    "        self.h_in = tf.placeholder(tf.float32, [None,self.lstm_cell.state_size.h], name = 'h_in')\n",
    "        \n",
    "        state_in = tf.contrib.rnn.LSTMStateTuple(self.c_in,self.h_in)\n",
    "        \n",
    "        # Get lstm cell output, providing 'sequence_length' will perform dynamic\n",
    "        # calculation.\n",
    "        print(x)\n",
    "        print(\"Sequence Length\", self.seqlen)\n",
    "        print(\"State in\", state_in)\n",
    "        #print(\"state in\", self.state_init)\n",
    "        outputs, states = tf.nn.dynamic_rnn(self.lstm_cell, x, dtype=tf.float32, sequence_length=self.seqlen, initial_state=state_in)\n",
    "        lstm_c, lstm_h = states\n",
    "        self.state_out = [lstm_c[:1, :], lstm_h[:1, :]]\n",
    "        \n",
    "        # Hack to build the indexing and retrieve the right output.\n",
    "        self.batch_size = tf.shape(outputs)[0]\n",
    "        # Start indices for each sample\n",
    "        index = tf.range(0, self.batch_size) * self.max_seq_len + (self.seqlen - 1)\n",
    "        # Indexing\n",
    "        outputs = tf.gather(tf.reshape(outputs, [-1, self.n_hidden]), index)\n",
    "        # Linear activation, using outputs computed above\n",
    "      \n",
    "        self.pred = tf.matmul(outputs, self.weights['out']) + self.biases['out']\n",
    "    \n",
    "        self.saver = tf.train.Saver()\n",
    "\n",
    "\n",
    "    def get_initial_features(self, batch_size):\n",
    "        # Call this function to get reseted lstm memory cells\n",
    "        c_init = np.zeros([batch_size,self.state_size_c], np.int32) \n",
    "        h_init = np.zeros([batch_size,self.state_size_h], np.int32)\n",
    "        return [c_init, h_init]\n",
    "    \n",
    "    def predict(self, x, c, h):\n",
    "        sess= tf.get_default_session()\n",
    "        #x.shape = (1,n_steps, n_input)\n",
    "        return sess.run([self.pred, self.state_out], {self.input:x, self.seqlen:[1], self.c_in: c, self.h_in:h})\n",
    "\n",
    "\n",
    "    def load_model(self,model_file_name):\n",
    "\n",
    "        sess= tf.get_default_session()\n",
    "        self.saver.restore(sess, model_file_name)\n",
    "\n",
    "    def train(self,trainset,testset,training_steps,batch_size,learning_rate,display_step, c, h, model_file_name=\"FWR_model_\"+time.strftime(\"%Y%m%d-%H%M%S\")):\n",
    "        \n",
    "        sess= tf.get_default_session()\n",
    "        cost, accTotal = 0, 0\n",
    "        \n",
    "        for i in range(0,batch_size):\n",
    "            predVecs = trainset.env.deconcatenateOneHotStateVector(self.pred[i,:])\n",
    "            labelVecs = trainset.env.deconcatenateOneHotStateVector(self.truevalue[i,:])\n",
    "            for pv,lv in zip(predVecs,labelVecs):\n",
    "                cost += tf.nn.softmax_cross_entropy_with_logits(logits=pv, labels=lv)\n",
    "                accTotal += tf.cast(tf.equal(tf.argmax(pv,axis=0), tf.argmax(lv,axis=0)), tf.float32)\n",
    "        self.optimizer = tf.train.AdamOptimizer(learning_rate=learning_rate).minimize(cost)\n",
    "\n",
    "\n",
    "        self.accuracy = accTotal / (batch_size * trainset.env.stateSubVectors) #tf.reduce_mean(tf.cast(correct_pred, tf.float32))\n",
    "        \n",
    "        # Initialize the variables (i.e. assign their default value)\n",
    "        init = tf.global_variables_initializer()\n",
    "        sess.run(init)\n",
    "\n",
    "        for step in range(1, training_steps + 1):\n",
    "            batch_x, batch_y, batch_seqlen = trainset.next(batch_size)\n",
    "            # Run optimization op (backprop)\n",
    "            sess.run(self.optimizer, feed_dict={self.input: batch_x, self.truevalue: batch_y,\n",
    "                                           self.seqlen: batch_seqlen,  self.c_in: c, self.h_in:h})\n",
    "            if step % display_step == 0 or step == 1:\n",
    "                # Calculate batch accuracy & loss\n",
    "                acc, loss = sess.run([self.accuracy, cost], feed_dict={self.input: batch_x, self.truevalue: batch_y,\n",
    "                                                    self.seqlen: batch_seqlen,  self.c_in: c, self.h_in:h})\n",
    "                print(\"Step \" + str(step*batch_size) + \", Minibatch Loss= \" + \\\n",
    "                      \"{:.6f}\".format(loss) + \", Training Accuracy= \" + \\\n",
    "                      \"{:.5f}\".format(acc))\n",
    "        \n",
    "        print(\"Optimization Finished!\")\n",
    "        # Calculate accuracy\n",
    "        test_data = testset.data\n",
    "        test_label = testset.labels\n",
    "        test_seqlen = testset.seqlen\n",
    "        c,h = self.get_initial_features(len(test_data))\n",
    "        acc=sess.run(self.accuracy, feed_dict={self.input: test_data, self.truevalue: test_label,\n",
    "                                          self.seqlen: test_seqlen,  self.c_in: c, self.h_in:h})\n",
    "\n",
    "        print(\"Testing Accuracy:\",acc)\n",
    "    \n",
    "        save_path= self.saver.save(sess, \"./\"+model_file_name+\".ckpt\")\n",
    "\n",
    "        print(\"Model Saved\")\n",
    "\n",
    "        return acc\n"
   ]
  },
  {
   "cell_type": "code",
   "execution_count": 86,
   "metadata": {
    "collapsed": true
   },
   "outputs": [],
   "source": [
    "def main():\n",
    "    print('Reading Data')\n",
    "    s = 'navigation' #'navigation'\n",
    "    trainf, validf = s+\"-data-train-small.pickle\", s+\"-data-test-small.pickle\"\n",
    "    train, test   = SeqData(trainf), SeqData(validf)\n",
    "    # classType = NavigationTask if s == 'navigation' else TransportTask\n",
    "    print(train.env.stateSubVectors)\n",
    "    print('Defining Model')\n",
    "    # Parameters\n",
    "    learning_rate = 0.01\n",
    "    training_steps = 1000 #2000 # 10000\n",
    "    batch_size = 128 #256 #128\n",
    "    display_step = 200\n",
    "    # Network Parameters\n",
    "    seq_max_len = 10 # Sequence max length\n",
    "    n_hidden = 100 #128 #5*train.lenOfInput # hidden layer num of features\n",
    "    len_state = train.lenOfState # linear sequence or not\n",
    "    len_input = train.lenOfInput\n",
    "\n",
    "\n",
    "    fake_input= np.reshape(test.data[5],[1,10,-1])\n",
    "    fake_state = fake_input[0][0][0:len_state]\n",
    "    fake_action = fake_input[0][0][len_state:]\n",
    "\n",
    "    with tf.Graph().as_default(), tf.Session() as sess:\n",
    "        fm=ForwardModel(len_state,len_input, seq_max_len, n_hidden)\n",
    "        c, h = fm.get_initial_features(batch_size)\n",
    "        print(c, h)\n",
    "        fm.train(train,test,training_steps,batch_size,learning_rate,display_step, c, h, \"abcd\")\n"
   ]
  },
  {
   "cell_type": "code",
   "execution_count": 97,
   "metadata": {
    "collapsed": true
   },
   "outputs": [],
   "source": [
    "def inference():\n",
    "    print('Reading Data')\n",
    "    s = 'navigation' #'navigation'\n",
    "    trainf, validf = s+\"-data-train-small.pickle\", s+\"-data-test-small.pickle\"\n",
    "    train, test   = SeqData(trainf), SeqData(validf)\n",
    "    # classType = NavigationTask if s == 'navigation' else TransportTask\n",
    "    print(train.env.stateSubVectors)\n",
    "    print('Defining Model')\n",
    "    # Parameters\n",
    "    learning_rate = 0.01\n",
    "    training_steps = 1000 #2000 # 10000\n",
    "    batch_size = 128 #256 #128\n",
    "    display_step = 200\n",
    "    # Network Parameters\n",
    "    seq_max_len = 10 # Sequence max length\n",
    "    n_hidden = 100 #128 #5*train.lenOfInput # hidden layer num of features\n",
    "    len_state = train.lenOfState # linear sequence or not\n",
    "    len_input = train.lenOfInput\n",
    "\n",
    "\n",
    "    fake_input= np.reshape(test.data[5],[1,10,-1])\n",
    "    fake_state = fake_input[0][0][0:len_state]\n",
    "    fake_action = fake_input[0][0][len_state:]\n",
    "    print(fake_action)\n",
    "    \n",
    "    print('action:',np.argmax(fake_action))\n",
    "    print('state:',[np.argmax(k) for k in train.env.deconcatenateOneHotStateVector(fake_state)])\n",
    "    print(fake_input)\n",
    "\n",
    "\n",
    "\n",
    "    with tf.Graph().as_default(), tf.Session() as sess:\n",
    "\n",
    "        fm=ForwardModel(len_state,len_input, seq_max_len, n_hidden)\n",
    "        c, h = fm.get_initial_features(1)\n",
    "\n",
    "        fm.load_model('abcd.ckpt')\n",
    "        fake_output, state_out=fm.predict(fake_input,c, h)\n",
    "        c, h= state_out\n",
    "        print(c.shape)\n",
    "        fake_output = train.env.deconcatenateOneHotStateVector(fake_output[0])\n",
    "        fake_output= [np.argmax(i) for i in fake_output]\n",
    "        print(fake_output)"
   ]
  },
  {
   "cell_type": "code",
   "execution_count": 98,
   "metadata": {
    "collapsed": false
   },
   "outputs": [
    {
     "name": "stdout",
     "output_type": "stream",
     "text": [
      "Reading Data\n",
      "Reading navigation-data-train-small.pickle\n",
      "\tBuilt\n",
      "Reading navigation-data-test-small.pickle\n",
      "\tBuilt\n",
      "5\n",
      "Defining Model\n",
      "[ 0.  0.  0.  0.  0.  0.  0.  0.  0.  1.]\n",
      "action: 9\n",
      "state: [5, 6, 0, 14, 14]\n",
      "[[[ 0.  0.  0.  0.  0.  1.  0.  0.  0.  0.  0.  0.  0.  0.  0.  0.  0.  0.\n",
      "    0.  0.  0.  1.  0.  0.  0.  0.  0.  0.  0.  0.  1.  0.  0.  0.  0.  0.\n",
      "    0.  0.  0.  0.  0.  0.  0.  0.  0.  0.  0.  0.  1.  0.  0.  0.  0.  0.\n",
      "    0.  0.  0.  0.  0.  0.  0.  0.  0.  1.  0.  0.  0.  0.  0.  0.  0.  0.\n",
      "    0.  1.]\n",
      "  [ 0.  0.  0.  0.  0.  1.  0.  0.  0.  0.  0.  0.  0.  0.  0.  0.  0.  0.\n",
      "    0.  0.  0.  0.  0.  0.  0.  0.  1.  0.  0.  0.  1.  0.  0.  0.  0.  0.\n",
      "    0.  0.  0.  0.  0.  0.  0.  0.  0.  0.  0.  0.  1.  0.  0.  0.  0.  0.\n",
      "    0.  0.  0.  0.  0.  0.  0.  0.  0.  1.  0.  0.  0.  0.  0.  0.  0.  0.\n",
      "    1.  0.]\n",
      "  [ 0.  0.  0.  0.  0.  1.  0.  0.  0.  0.  0.  0.  0.  0.  0.  0.  0.  0.\n",
      "    0.  0.  0.  0.  0.  0.  0.  0.  0.  0.  0.  1.  1.  0.  0.  0.  0.  0.\n",
      "    0.  0.  0.  0.  0.  0.  0.  0.  0.  0.  0.  0.  1.  0.  0.  0.  0.  0.\n",
      "    0.  0.  0.  0.  0.  0.  0.  0.  0.  1.  0.  0.  0.  0.  0.  0.  1.  0.\n",
      "    0.  0.]\n",
      "  [ 0.  0.  0.  0.  0.  0.  0.  0.  0.  0.  0.  0.  0.  0.  0.  0.  0.  0.\n",
      "    0.  0.  0.  0.  0.  0.  0.  0.  0.  0.  0.  0.  0.  0.  0.  0.  0.  0.\n",
      "    0.  0.  0.  0.  0.  0.  0.  0.  0.  0.  0.  0.  0.  0.  0.  0.  0.  0.\n",
      "    0.  0.  0.  0.  0.  0.  0.  0.  0.  0.  0.  0.  0.  0.  0.  0.  0.  0.\n",
      "    0.  0.]\n",
      "  [ 0.  0.  0.  0.  0.  0.  0.  0.  0.  0.  0.  0.  0.  0.  0.  0.  0.  0.\n",
      "    0.  0.  0.  0.  0.  0.  0.  0.  0.  0.  0.  0.  0.  0.  0.  0.  0.  0.\n",
      "    0.  0.  0.  0.  0.  0.  0.  0.  0.  0.  0.  0.  0.  0.  0.  0.  0.  0.\n",
      "    0.  0.  0.  0.  0.  0.  0.  0.  0.  0.  0.  0.  0.  0.  0.  0.  0.  0.\n",
      "    0.  0.]\n",
      "  [ 0.  0.  0.  0.  0.  0.  0.  0.  0.  0.  0.  0.  0.  0.  0.  0.  0.  0.\n",
      "    0.  0.  0.  0.  0.  0.  0.  0.  0.  0.  0.  0.  0.  0.  0.  0.  0.  0.\n",
      "    0.  0.  0.  0.  0.  0.  0.  0.  0.  0.  0.  0.  0.  0.  0.  0.  0.  0.\n",
      "    0.  0.  0.  0.  0.  0.  0.  0.  0.  0.  0.  0.  0.  0.  0.  0.  0.  0.\n",
      "    0.  0.]\n",
      "  [ 0.  0.  0.  0.  0.  0.  0.  0.  0.  0.  0.  0.  0.  0.  0.  0.  0.  0.\n",
      "    0.  0.  0.  0.  0.  0.  0.  0.  0.  0.  0.  0.  0.  0.  0.  0.  0.  0.\n",
      "    0.  0.  0.  0.  0.  0.  0.  0.  0.  0.  0.  0.  0.  0.  0.  0.  0.  0.\n",
      "    0.  0.  0.  0.  0.  0.  0.  0.  0.  0.  0.  0.  0.  0.  0.  0.  0.  0.\n",
      "    0.  0.]\n",
      "  [ 0.  0.  0.  0.  0.  0.  0.  0.  0.  0.  0.  0.  0.  0.  0.  0.  0.  0.\n",
      "    0.  0.  0.  0.  0.  0.  0.  0.  0.  0.  0.  0.  0.  0.  0.  0.  0.  0.\n",
      "    0.  0.  0.  0.  0.  0.  0.  0.  0.  0.  0.  0.  0.  0.  0.  0.  0.  0.\n",
      "    0.  0.  0.  0.  0.  0.  0.  0.  0.  0.  0.  0.  0.  0.  0.  0.  0.  0.\n",
      "    0.  0.]\n",
      "  [ 0.  0.  0.  0.  0.  0.  0.  0.  0.  0.  0.  0.  0.  0.  0.  0.  0.  0.\n",
      "    0.  0.  0.  0.  0.  0.  0.  0.  0.  0.  0.  0.  0.  0.  0.  0.  0.  0.\n",
      "    0.  0.  0.  0.  0.  0.  0.  0.  0.  0.  0.  0.  0.  0.  0.  0.  0.  0.\n",
      "    0.  0.  0.  0.  0.  0.  0.  0.  0.  0.  0.  0.  0.  0.  0.  0.  0.  0.\n",
      "    0.  0.]\n",
      "  [ 0.  0.  0.  0.  0.  0.  0.  0.  0.  0.  0.  0.  0.  0.  0.  0.  0.  0.\n",
      "    0.  0.  0.  0.  0.  0.  0.  0.  0.  0.  0.  0.  0.  0.  0.  0.  0.  0.\n",
      "    0.  0.  0.  0.  0.  0.  0.  0.  0.  0.  0.  0.  0.  0.  0.  0.  0.  0.\n",
      "    0.  0.  0.  0.  0.  0.  0.  0.  0.  0.  0.  0.  0.  0.  0.  0.  0.  0.\n",
      "    0.  0.]]]\n",
      "Tensor(\"Placeholder:0\", shape=(?, 10, 74), dtype=float32)\n",
      "Sequence Length Tensor(\"Placeholder_2:0\", shape=(?,), dtype=int32)\n",
      "State in LSTMStateTuple(c=<tf.Tensor 'c_in:0' shape=(?, 100) dtype=float32>, h=<tf.Tensor 'h_in:0' shape=(?, 100) dtype=float32>)\n",
      "INFO:tensorflow:Restoring parameters from abcd.ckpt\n",
      "(1, 100)\n",
      "[5, 11, 0, 14, 14]\n"
     ]
    }
   ],
   "source": [
    "inference()"
   ]
  },
  {
   "cell_type": "code",
   "execution_count": 96,
   "metadata": {
    "collapsed": false
   },
   "outputs": [
    {
     "ename": "NameError",
     "evalue": "name 'main' is not defined",
     "output_type": "error",
     "traceback": [
      "\u001b[0;31m---------------------------------------------------------------------------\u001b[0m",
      "\u001b[0;31mNameError\u001b[0m                                 Traceback (most recent call last)",
      "\u001b[0;32m<ipython-input-96-58ca95c5b364>\u001b[0m in \u001b[0;36m<module>\u001b[0;34m()\u001b[0m\n\u001b[0;32m----> 1\u001b[0;31m \u001b[0mmain\u001b[0m\u001b[1;33m(\u001b[0m\u001b[1;33m)\u001b[0m\u001b[1;33m\u001b[0m\u001b[0m\n\u001b[0m",
      "\u001b[0;31mNameError\u001b[0m: name 'main' is not defined"
     ]
    }
   ],
   "source": [
    "main()"
   ]
  },
  {
   "cell_type": "code",
   "execution_count": null,
   "metadata": {
    "collapsed": true
   },
   "outputs": [],
   "source": []
  },
  {
   "cell_type": "code",
   "execution_count": null,
   "metadata": {
    "collapsed": true
   },
   "outputs": [],
   "source": [
    "main()"
   ]
  },
  {
   "cell_type": "code",
   "execution_count": null,
   "metadata": {
    "collapsed": true
   },
   "outputs": [],
   "source": []
  },
  {
   "cell_type": "code",
   "execution_count": 68,
   "metadata": {
    "collapsed": false
   },
   "outputs": [
    {
     "name": "stdout",
     "output_type": "stream",
     "text": [
      "Reading navigation-data-train-small.pickle\n",
      "\tBuilt\n",
      "Reading navigation-data-test-small.pickle\n",
      "\tBuilt\n"
     ]
    }
   ],
   "source": [
    "trainf, validf = 'navigation'+\"-data-train-small.pickle\", 'navigation'+\"-data-test-small.pickle\"\n",
    "train, test   = SeqData(trainf), SeqData(validf)"
   ]
  },
  {
   "cell_type": "code",
   "execution_count": 100,
   "metadata": {
    "collapsed": false
   },
   "outputs": [
    {
     "name": "stdout",
     "output_type": "stream",
     "text": [
      "64 74\n"
     ]
    }
   ],
   "source": [
    "len(test.data)\n",
    "len_state = train.lenOfState # linear sequence or not\n",
    "len_input = train.lenOfInput\n",
    "print(len_state, len_input)"
   ]
  },
  {
   "cell_type": "code",
   "execution_count": null,
   "metadata": {
    "collapsed": true
   },
   "outputs": [],
   "source": []
  }
 ],
 "metadata": {
  "kernelspec": {
   "display_name": "Python 3",
   "language": "python",
   "name": "python3"
  },
  "language_info": {
   "codemirror_mode": {
    "name": "ipython",
    "version": 3
   },
   "file_extension": ".py",
   "mimetype": "text/x-python",
   "name": "python",
   "nbconvert_exporter": "python",
   "pygments_lexer": "ipython3",
   "version": "3.6.0"
  }
 },
 "nbformat": 4,
 "nbformat_minor": 2
}
